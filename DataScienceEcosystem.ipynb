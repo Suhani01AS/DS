{
 "cells": [
  {
   "cell_type": "markdown",
   "id": "5ccfa180",
   "metadata": {},
   "source": [
    "#  Data Science Tools and Ecosystem"
   ]
  },
  {
   "cell_type": "markdown",
   "id": "c9e5af4c",
   "metadata": {},
   "source": [
    " In this notebook, Data Science Tools and Ecosystem are summarized."
   ]
  },
  {
   "cell_type": "raw",
   "id": "b46d1510",
   "metadata": {},
   "source": [
    "Some of the popular languages that Data Scientists use are:\n",
    "    1. R\n",
    "    2. Python\n",
    "    3. Java\n",
    "    4. Scala\n",
    "    5. Julia\n",
    "    6. SQL\n",
    "    7. NLTK\n",
    "    8. JavaScript"
   ]
  },
  {
   "cell_type": "raw",
   "id": "5861c66e",
   "metadata": {},
   "source": [
    "Some of the commonly used libraries used by Data Scientists are:\n",
    "    1. pandas\n",
    "    2. numpy\n",
    "    3. Scikit-Learn\n",
    "    4. Keras\n",
    "    5. PyTorch\n",
    "    6. MatPlotlib\n",
    "    7. TensorFlow\n",
    "    8. Plotly"
   ]
  },
  {
   "cell_type": "markdown",
   "id": "48594f86",
   "metadata": {},
   "source": [
    "| Data | Science | Tools |\n",
    "| --- | --- | --- |\n",
    "| Jupyter Notebook | Zeppelin Notebook | R Studio's |"
   ]
  },
  {
   "cell_type": "markdown",
   "id": "1d343c07",
   "metadata": {},
   "source": [
    "###  Below are a few examples of evaluating arithmetic expressions in Python."
   ]
  },
  {
   "cell_type": "code",
   "execution_count": 2,
   "id": "fdc67d3f",
   "metadata": {},
   "outputs": [
    {
     "data": {
      "text/plain": [
       "17"
      ]
     },
     "execution_count": 2,
     "metadata": {},
     "output_type": "execute_result"
    }
   ],
   "source": [
    "#This a simple arithmetic expression to mutiply then add integers.\n",
    "(3*4)+5"
   ]
  },
  {
   "cell_type": "code",
   "execution_count": 3,
   "id": "0fb8e553",
   "metadata": {},
   "outputs": [
    {
     "name": "stdout",
     "output_type": "stream",
     "text": [
      "3 : 20\n"
     ]
    }
   ],
   "source": [
    "min = 200\n",
    "hour = int(min/60)\n",
    "minute = min % 60\n",
    "print(hour ,\":\",minute)"
   ]
  },
  {
   "cell_type": "raw",
   "id": "1ecbcdb7",
   "metadata": {},
   "source": [
    "Objectives:\n",
    "Some popular languages in Data Science are:\n",
    "* R\n",
    "* Python\n",
    "* Scala\n",
    "* Julia\n",
    "* SQL"
   ]
  },
  {
   "cell_type": "markdown",
   "id": "e636fcb5",
   "metadata": {},
   "source": [
    "## Author\n",
    "  ~ SMRUTI SUHANI"
   ]
  }
 ],
 "metadata": {
  "kernelspec": {
   "display_name": "Python 3 (ipykernel)",
   "language": "python",
   "name": "python3"
  },
  "language_info": {
   "codemirror_mode": {
    "name": "ipython",
    "version": 3
   },
   "file_extension": ".py",
   "mimetype": "text/x-python",
   "name": "python",
   "nbconvert_exporter": "python",
   "pygments_lexer": "ipython3",
   "version": "3.10.1"
  }
 },
 "nbformat": 4,
 "nbformat_minor": 5
}
